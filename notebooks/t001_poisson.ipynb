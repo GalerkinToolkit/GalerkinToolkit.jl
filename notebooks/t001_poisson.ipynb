{
 "cells": [
  {
   "cell_type": "markdown",
   "metadata": {},
   "source": [
    "# Tutorial 1: Poisson equation"
   ]
  },
  {
   "cell_type": "markdown",
   "metadata": {},
   "source": [
    "In this tutorial, we will learn\n",
    "\n",
    "   -  How to solve a simple PDE in Julia with GalerkinToolkit\n",
    "   -  How to load a discrete model (aka a FE mesh) from a file\n",
    "   -  How to build a conforming Lagrangian FE space\n",
    "   -  How to define the different terms in a weak form\n",
    "   -  How to impose Dirichlet and Neumann boundary conditions\n",
    "   -  How to visualize results\n",
    "\n",
    "\n",
    "## Problem statement\n",
    "\n",
    "In this first tutorial, we provide an overview of a complete simulation pipeline in GalerkinToolkit: from the construction of the FE mesh to the visualization of the computed results. To this end, we consider a simple model problem: the Poisson equation.\n",
    " We want to solve the Poisson equation on the 3D domain depicted in next figure with Dirichlet and Neumann boundary conditions. Dirichlet boundary conditions are applied on $\\Gamma_{\\rm D}$, being the outer sides of the prism (marked in red). Non-homogeneous Neumann conditions are applied to the internal boundaries $\\Gamma_{\\rm G}$, $\\Gamma_{\\rm Y}$, and $\\Gamma_{\\rm B}$ (marked in green, yellow and blue respectively). And homogeneous Neumann boundary conditions are applied in $\\Gamma_{\\rm W}$, the remaining portion of the boundary (marked in white).\n",
    "\n",
    "![](../assets/poisson/model-r1-2.png)\n",
    "\n",
    " Formally, the problem to solve is: find the scalar field $u$ such that\n",
    "\n",
    "$$\n",
    "\\left\\lbrace\n",
    "\\begin{aligned}\n",
    "-\\Delta u = f  \\ &\\text{in} \\ \\Omega,\\\\\n",
    "u = g \\ &\\text{on}\\ \\Gamma_{\\rm D},\\\\\n",
    "\\nabla u\\cdot n = h \\ &\\text{on}\\  \\Gamma_{\\rm N},\\\\\n",
    "\\end{aligned}\n",
    "\\right.\n",
    "$$\n",
    " being $n$ the outwards unit normal vector to the Neumann boundary $\\Gamma_{\\rm N} \\doteq \\Gamma_{\\rm G}\\cup\\Gamma_{\\rm Y}\\cup\\Gamma_{\\rm B}\\cup\\Gamma_{\\rm W}$. In this example, we chose $f(x) = 1$, $g(x) = 2$, and $h(x)=3$ on $\\Gamma_{\\rm G}\\cup\\Gamma_{\\rm Y}\\cup\\Gamma_{\\rm B}$ and $h(x)=0$ on $\\Gamma_{\\rm W}$. The variable $x$ is the position vector $x=(x_1,x_2,x_3)$.\n",
    "\n",
    " ## Numerical scheme\n",
    "\n",
    " To solve this PDE, we use a conventional Galerkin finite element (FE) method with conforming Lagrangian FE spaces (see, e.g., [1] for specific details on this formulation). The weak form associated with this formulation is: find $u\\in U_g$ such that $ a(u,v) = b(v) $ for all $v\\in V_0$, where $U_g$ and $V_0$ are the subset of functions in $H^1(\\Omega)$ that fulfill the Dirichlet boundary condition $g$ and $0$ respectively. The bilinear and linear forms for this problems are\n",
    "$$\n",
    "  a(u,v) \\doteq \\int_{\\Omega} \\nabla v \\cdot \\nabla u \\ {\\rm d}\\Omega, \\quad b(v) \\doteq \\int_{\\Omega} v\\ f  \\ {\\rm  d}\\Omega + \\int_{\\Gamma_{\\rm N}} v\\ h \\ {\\rm d}\\Gamma_{\\rm N}.\n",
    "$$\n",
    "The problem is solved numerically by approximating the spaces $U_g$ and $V_0$ by their discrete counterparts associated with a FE mesh of the computational domain $\\Omega$. As we have anticipated, we consider standard conforming Lagrangian FE spaces for this purpose.\n",
    "\n",
    "The implementation of this numerical scheme in GalerkinToolkit is done in a user-friendly way thanks to the abstractions provided by the library. As it will be seen below, all the mathematical objects involved in the definition of the discrete weak problem have a correspondent representation in the code.\n",
    "\n",
    " ## Setup\n",
    "\n",
    " The step number 0 in order to solve the problem is to load the GalerkinToolkit library in the code. If you have configured your Julia environment properly, it is simply done with the line:"
   ]
  },
  {
   "cell_type": "code",
   "execution_count": 1,
   "metadata": {},
   "outputs": [
    {
     "name": "stdout",
     "output_type": "stream",
     "text": [
      "\u001b[36m\u001b[1mProject\u001b[22m\u001b[39m GalerkinToolkit v0.1.0\n",
      "\u001b[32m\u001b[1mStatus\u001b[22m\u001b[39m `~/Library/CloudStorage/OneDrive-NetherlandseScienceCenter/Documents/NLeSC_Projects/HP2SIM/GalerkinToolkit.jl/Project.toml`\n",
      "  \u001b[90m[8e7c35d0] \u001b[39mBlockArrays v1.1.1\n",
      "  \u001b[90m[861a8166] \u001b[39mCombinatorics v1.0.2\n",
      "  \u001b[90m[442a2c76] \u001b[39mFastGaussQuadrature v1.0.2\n",
      "  \u001b[90m[1a297f60] \u001b[39mFillArrays v1.13.0\n",
      "  \u001b[90m[f6369f11] \u001b[39mForwardDiff v0.10.36\n",
      "  \u001b[90m[705231aa] \u001b[39mGmsh v0.3.1\n",
      "  \u001b[90m[42fd0dbc] \u001b[39mIterativeSolvers v0.9.4\n",
      "\u001b[32m⌃\u001b[39m \u001b[90m[da04e1cc] \u001b[39mMPI v0.20.21\n",
      "  \u001b[90m[e9d8d322] \u001b[39mMetatheory v2.0.2\n",
      "\u001b[32m⌃\u001b[39m \u001b[90m[2679e427] \u001b[39mMetis v1.4.1\n",
      "  \u001b[90m[5a9dfac6] \u001b[39mPartitionedArrays v0.5.4\n",
      "  \u001b[90m[90137ffa] \u001b[39mStaticArrays v1.9.7\n",
      "\u001b[32m⌃\u001b[39m \u001b[90m[64499a7a] \u001b[39mWriteVTK v1.19.2\n",
      "  \u001b[90m[37e2e46d] \u001b[39mLinearAlgebra\n",
      "  \u001b[90m[2f01184e] \u001b[39mSparseArrays v1.10.0\n",
      "\u001b[36m\u001b[1mInfo\u001b[22m\u001b[39m Packages marked with \u001b[32m⌃\u001b[39m have new versions available and may be upgradable.\n"
     ]
    }
   ],
   "source": [
    "using Pkg\n",
    "Pkg.status()"
   ]
  },
  {
   "cell_type": "code",
   "execution_count": 2,
   "metadata": {},
   "outputs": [],
   "source": [
    "import GalerkinToolkit as GT"
   ]
  },
  {
   "cell_type": "markdown",
   "metadata": {},
   "source": [
    "## Computational mesh\n",
    "\n",
    "As in any FE simulation, we need a discretization of the computational domain (i.e., a FE mesh). All geometrical data needed for solving a FE problem is provided in GalerkinToolkit by types inheriting from the abstract type `GenericMesh`. In the following line, we build an instance of `GenericMesh` by loading a `msh` file."
   ]
  },
  {
   "cell_type": "code",
   "execution_count": 3,
   "metadata": {},
   "outputs": [
    {
     "name": "stdout",
     "output_type": "stream",
     "text": [
      "Info    : Reading '../assets/model.msh'...\n",
      "Info    : 95 entities\n",
      "Info    : 7475 nodes\n",
      "Info    : 40330 elements\n",
      "Info    : Done reading '../assets/model.msh'\n"
     ]
    },
    {
     "data": {
      "text/plain": [
       "GalerkinToolkit.GenericMesh(…)"
      ]
     },
     "metadata": {},
     "output_type": "display_data"
    }
   ],
   "source": [
    "mesh = GT.mesh_from_gmsh(\"../assets/model.msh\")"
   ]
  },
  {
   "cell_type": "markdown",
   "metadata": {},
   "source": [
    "The file `\"model.msh\"` (which contains a FE mesh and information about user-defined physical boundaries) was generated by using the [GMSH](http://gmsh.info/) mesh generator. See the documentation of [GMSH](http://gmsh.info/#Documentation).\n",
    "\n",
    "You can easily inspect the generated discrete model in [Paraview](https://www.paraview.org/) by writing it in `vtk` format."
   ]
  },
  {
   "cell_type": "code",
   "execution_count": 4,
   "metadata": {},
   "outputs": [
    {
     "data": {
      "text/plain": [
       "1-element Vector{String}:\n",
       " \"mesh.vtu\""
      ]
     },
     "metadata": {},
     "output_type": "display_data"
    }
   ],
   "source": [
    "# writevtk(model,\"model\")\n",
    "# TODO\n",
    "# GT.plot_vtk(\"mesh\",mesh)\n",
    "using WriteVTK\n",
    "vtk_grid(\"mesh\",GT.vtk_args(mesh)...) do vtk\n",
    "    GT.vtk_physical_faces!(vtk, mesh)\n",
    "end"
   ]
  },
  {
   "cell_type": "code",
   "execution_count": 5,
   "metadata": {},
   "outputs": [
    {
     "data": {
      "text/plain": [
       "Dict{String, Vector{Int32}} with 6 entries:\n",
       "  \"triangle\" => [5401, 5402, 5403, 5404, 5405, 5406, 5407, 5408, 5409, 5410  … …\n",
       "  \"bottom\"   => [1, 2, 3, 4, 5, 6, 7, 8, 9, 10  …  3385, 3386, 3387, 3388, 3389…\n",
       "  \"circle\"   => [6609, 6610, 6611, 6612, 6613, 6614, 6615, 6616, 6617, 6618  … …\n",
       "  \"top\"      => [7053, 7054, 7055, 7056, 7057, 7058, 7059, 7060, 7061, 7062  … …\n",
       "  \"square\"   => [6053, 6054, 6055, 6056, 6057, 6058, 6059, 6060, 6061, 6062  … …\n",
       "  \"sides\"    => [3395, 3396, 3397, 3398, 3399, 3400, 3401, 3402, 3403, 3404  … …"
      ]
     },
     "metadata": {},
     "output_type": "display_data"
    }
   ],
   "source": [
    "GT.physical_faces(mesh,2)"
   ]
  },
  {
   "cell_type": "code",
   "execution_count": 6,
   "metadata": {},
   "outputs": [
    {
     "data": {
      "text/plain": [
       "Dict{String, Vector{Int32}} with 1 entry:\n",
       "  \"volume\" => [1, 2, 3, 4, 5, 6, 7, 8, 9, 10  …  29151, 29152, 29153, 29154, 29…"
      ]
     },
     "metadata": {},
     "output_type": "display_data"
    }
   ],
   "source": [
    "GT.physical_faces(mesh,3)"
   ]
  },
  {
   "cell_type": "markdown",
   "metadata": {},
   "source": [
    "## Computational domains"
   ]
  },
  {
   "cell_type": "code",
   "execution_count": 7,
   "metadata": {},
   "outputs": [
    {
     "data": {
      "text/plain": [
       "GalerkinToolkit.PhysicalDomain(…)"
      ]
     },
     "metadata": {},
     "output_type": "display_data"
    }
   ],
   "source": [
    "Ω = GT.interior(mesh;physical_names=[\"volume\"])"
   ]
  },
  {
   "cell_type": "code",
   "execution_count": 8,
   "metadata": {},
   "outputs": [],
   "source": [
    "GT.vtk_plot(\"Ω\",Ω) do plt end # TODO Maybe remove do plt end\n",
    "# GT.vtk_plot(\"Ω\",Ω)\n",
    "# TODO move this to domain.jl\n",
    "GT.vtk_plot(name::AbstractString,domain::GT.AbstractDomain;kwargs...) = GT.vtk_plot(identity,name,domain;kwargs...)"
   ]
  },
  {
   "cell_type": "code",
   "execution_count": 9,
   "metadata": {},
   "outputs": [
    {
     "data": {
      "text/plain": [
       "1-element Vector{String}:\n",
       " \"Ω.vtu\""
      ]
     },
     "metadata": {},
     "output_type": "display_data"
    }
   ],
   "source": [
    "GT.vtk_plot(\"Ω\",Ω)"
   ]
  },
  {
   "cell_type": "code",
   "execution_count": 10,
   "metadata": {},
   "outputs": [
    {
     "data": {
      "text/plain": [
       "GalerkinToolkit.PhysicalDomain(…)"
      ]
     },
     "metadata": {},
     "output_type": "display_data"
    }
   ],
   "source": [
    "Γd = GT.boundary(mesh;physical_names=[\"sides\"])"
   ]
  },
  {
   "cell_type": "code",
   "execution_count": 11,
   "metadata": {},
   "outputs": [
    {
     "data": {
      "text/plain": [
       "1-element Vector{String}:\n",
       " \"Γd.vtu\""
      ]
     },
     "metadata": {},
     "output_type": "display_data"
    }
   ],
   "source": [
    "GT.vtk_plot(\"Γd\",Γd) do plt end # TODO Maybe remove do plt end"
   ]
  },
  {
   "cell_type": "code",
   "execution_count": 12,
   "metadata": {},
   "outputs": [
    {
     "data": {
      "text/plain": [
       "GalerkinToolkit.PhysicalDomain(…)"
      ]
     },
     "metadata": {},
     "output_type": "display_data"
    }
   ],
   "source": [
    "Γ = GT.boundary(mesh;physical_names=[\"circle\", \"triangle\", \"square\"])"
   ]
  },
  {
   "cell_type": "code",
   "execution_count": 13,
   "metadata": {},
   "outputs": [
    {
     "data": {
      "text/plain": [
       "1-element Vector{String}:\n",
       " \"Γ.vtu\""
      ]
     },
     "metadata": {},
     "output_type": "display_data"
    }
   ],
   "source": [
    "GT.vtk_plot(\"Γ\",Γ) do plt end # TODO Maybe remove do plt end"
   ]
  },
  {
   "cell_type": "markdown",
   "metadata": {},
   "source": [
    "The previous line generates four different files `model_0.vtu`, `model_1.vtu`, `model_2.vtu`, and `model_3.vtu` containing the vertices, edges, faces, and cells present in the discrete model. Moreover, you can easily inspect which boundaries are defined within the model.\n",
    "\n",
    "For instance, if you want to see which faces of the model are on the boundary $\\Gamma_{\\rm B}$ (i.e., the walls of the circular perforation), open the file `model_2.vtu` and chose coloring by the element field \"circle\". You should see that only the faces on the circular hole have a value different from zero (see next figure).\n",
    "\n",
    "![](../assets/poisson/fig_faces_on_circle.png)\n",
    "\n",
    "It is also possible to see which vertices are on the Dirichlet boundary $\\Gamma_{\\rm D}$. To do so, open the file `model_0.vtu` and chose coloring by the field \"sides\" (see next figure).\n",
    "\n",
    "![](../assets/poisson/fig_vertices_on_sides.png)\n",
    "\n",
    "That is, the boundary $\\Gamma_{\\rm B}$ (i.e., the walls of the circular hole) is called \"circle\" and the Dirichlet boundary $\\Gamma_{\\rm D}$ is called \"sides\" in the model. In addition, the walls of the triangular hole $\\Gamma_{\\rm G}$ and the walls of the square hole $\\Gamma_{\\rm Y}$ are identified in the model with the names \"triangle\" and \"square\" respectively. You can easily check this by opening the corresponding file in Paraview.\n",
    "\n",
    "\n",
    "## FE spaces\n",
    "\n",
    " Once we have a discretization of the computational domain, the next step is to generate a discrete approximation of the finite element spaces $V_0$ and $U_g$ (i.e. the test and trial FE spaces) of the problem. To do so, first, we are going to build a discretization of $V_0$ as the standard Conforming Lagrangian FE space (with zero boundary conditions) associated with the discretization of the computational domain. The approximation of the FE space $V_0$ is built as follows:"
   ]
  },
  {
   "cell_type": "code",
   "execution_count": 14,
   "metadata": {},
   "outputs": [
    {
     "data": {
      "text/plain": [
       "GalerkinToolkit.LagrangeSpace(…)"
      ]
     },
     "metadata": {},
     "output_type": "display_data"
    }
   ],
   "source": [
    "order = 1\n",
    "V = GT.lagrange_space(Ω,order;dirichlet_boundary=Γd)"
   ]
  },
  {
   "cell_type": "markdown",
   "metadata": {},
   "source": [
    "Here, we have used the `TestFESpace` constructor, which constructs a particular FE space (to be used as a test space) from a set of options described as positional and key-word arguments. The first positional argument is the model on top of which we want to build the space. The second positional argument contains information about the type of FE interpolation (the reference FE in this case). With `ReferenceFE(lagrangian,Float64,order)` We select a scalar-valued Lagrangian reference FE of order 1, where the value of the shape functions will be represented with  64-bit floating point numbers. With the key-word argument `conformity` we define the regularity of the interpolation at the boundaries of the cells in the mesh. Here, we use `conformity=:H1`, which means that the resulting interpolation space is a subset of $H^1(\\Omega)$ (i.e., continuous shape functions). On the other hand, we pass the identifiers of the Dirichlet boundary via the `dirichlet_tags` argument. In this case, we mark as Dirichlet all objects of the discrete model identified with the `\"sides\"` tag. Since this is a test space, the corresponding shape functions vanishes at the Dirichlet boundary.\n",
    "\n",
    "Once the space $V_0$ is discretized in the code, we proceed with the approximation of the trial space $U_g$."
   ]
  },
  {
   "cell_type": "code",
   "execution_count": 15,
   "metadata": {},
   "outputs": [
    {
     "data": {
      "text/plain": [
       "GalerkinToolkit.DiscreteField(…)"
      ]
     },
     "metadata": {},
     "output_type": "display_data"
    }
   ],
   "source": [
    "uhd = GT.dirichlet_field(Float64,V)\n",
    "g = GT.analytical_field(Ω) do x\n",
    "    2.0\n",
    "end\n",
    "GT.interpolate_dirichlet!(g,uhd)"
   ]
  },
  {
   "cell_type": "code",
   "execution_count": 16,
   "metadata": {},
   "outputs": [
    {
     "data": {
      "text/plain": [
       "1-element Vector{String}:\n",
       " \"Γd.vtu\""
      ]
     },
     "metadata": {},
     "output_type": "display_data"
    }
   ],
   "source": [
    "GT.vtk_plot(\"Γd\",Γd) do plt\n",
    "    GT.plot!(plt,g;label=\"g\")\n",
    "end"
   ]
  },
  {
   "cell_type": "code",
   "execution_count": 17,
   "metadata": {},
   "outputs": [
    {
     "data": {
      "text/plain": [
       "1-element Vector{String}:\n",
       " \"Ω.vtu\""
      ]
     },
     "metadata": {},
     "output_type": "display_data"
    }
   ],
   "source": [
    "GT.vtk_plot(\"Ω\",Ω) do plt\n",
    "    GT.plot!(plt,uhd;label=\"uhd\")\n",
    "end"
   ]
  },
  {
   "cell_type": "markdown",
   "metadata": {},
   "source": [
    "To this end, we have used the `TrialFESpace` constructors. Note that we have passed a function representing the value of the Dirichlet boundary condition, when building the trial space.\n",
    "\n",
    "\n",
    "## Numerical integration\n",
    "\n",
    "Once we have built the interpolation spaces, the next step is to set up the machinery to perform the integrals in the weak form numerically. Here, we need to compute integrals on the interior of the domain $\\Omega$ and on the Neumann boundary $\\Gamma_{\\rm N}$. In both cases, we need two main ingredients. We need to define an integration mesh (i.e. a triangulation of the integration domain), plus a Gauss-like quadrature in each of the cells in the triangulation. In Gridap, integration meshes are represented by types inheriting from the abstract type `Triangulation`. For integrating on the domain $\\Omega$, we build the following triangulation and the corresponding Lebesgue measure, which will allow to write down integrals in a syntax similar to the usual mathematical notation."
   ]
  },
  {
   "cell_type": "code",
   "execution_count": 18,
   "metadata": {},
   "outputs": [
    {
     "data": {
      "text/plain": [
       "GalerkinToolkit.Measure(…)"
      ]
     },
     "metadata": {},
     "output_type": "display_data"
    }
   ],
   "source": [
    "degree = 2*order\n",
    "dΩ = GT.measure(Ω,degree) # TODO fix pretty printing in GalerkinToolkit.Measure"
   ]
  },
  {
   "cell_type": "markdown",
   "metadata": {},
   "source": [
    "Here, we build a triangulation from the cells of the model and build (an approximation of) the Lebesgue measure using a quadrature rule of degree 2 in the cells of this triangulation. This is enough for integrating the corresponding terms of the weak form exactly for an interpolation of order 1.\n",
    "\n",
    "On the other hand, we need a special type of triangulation, represented by the type `BoundaryTriangulation`, to integrate on the boundary. Essentially, a `BoundaryTriangulation` is a particular type of `Triangulation` that is aware of which cells in the model are touched by faces on the boundary. We build an instance of this type from the discrete model and the names used to identify the Neumann boundary as follows:"
   ]
  },
  {
   "cell_type": "code",
   "execution_count": 19,
   "metadata": {},
   "outputs": [
    {
     "data": {
      "text/plain": [
       "GalerkinToolkit.Measure(…)"
      ]
     },
     "metadata": {},
     "output_type": "display_data"
    }
   ],
   "source": [
    "dΓ = GT.measure(Γ,degree)"
   ]
  },
  {
   "cell_type": "markdown",
   "metadata": {},
   "source": [
    "## Differential operators"
   ]
  },
  {
   "cell_type": "code",
   "execution_count": 20,
   "metadata": {},
   "outputs": [
    {
     "data": {
      "text/plain": [
       "∇ (generic function with 1 method)"
      ]
     },
     "metadata": {},
     "output_type": "display_data"
    }
   ],
   "source": [
    "using ForwardDiff\n",
    "gradient(u) = x->ForwardDiff.gradient(u,x)\n",
    "∇(u,x) = GT.call(gradient,u)(x)"
   ]
  },
  {
   "cell_type": "markdown",
   "metadata": {},
   "source": [
    "In addition, we have created a quadrature of degree 2 on top of the cells in the triangulation for the Neumann boundary.\n",
    "\n",
    "## Weak form\n",
    "\n",
    "With all the ingredients presented so far, we are ready to define the weak form. This is done by defining functions representing the bi-linear and linear forms:"
   ]
  },
  {
   "cell_type": "code",
   "execution_count": 21,
   "metadata": {},
   "outputs": [
    {
     "data": {
      "text/plain": [
       "l (generic function with 1 method)"
      ]
     },
     "metadata": {},
     "output_type": "display_data"
    }
   ],
   "source": [
    "using LinearAlgebra\n",
    "f = GT.analytical_field(Ω) do x\n",
    "    1.0\n",
    "end\n",
    "h = GT.analytical_field(Ω) do x\n",
    "    3.0\n",
    "end\n",
    "a(u,v) = GT.∫( x->∇(u,x)⋅∇(v,x), dΩ)\n",
    "l(v) = GT.∫( x->v(x)*f(x), dΩ) + GT.∫( x->v(x)*h(x),dΓ)"
   ]
  },
  {
   "cell_type": "markdown",
   "metadata": {},
   "source": [
    "Note that by using the integral function `∫`, the Lebesgue measures `dΩ`, `dΓ`, and the gradient function `∇`, the weak form is written with an obvious relation with the corresponding mathematical notation."
   ]
  },
  {
   "cell_type": "markdown",
   "metadata": {},
   "source": [
    " ## FE Problem\n",
    "\n",
    " At this point, we can build the FE problem that, once solved, will provide the numerical solution we are looking for. A FE problem is represented in Gridap by types inheriting from the abstract type `FEOperator` (both for linear and nonlinear cases). Since we want to solve a linear problem, we use the concrete type `AffineFEOperator`, i.e., a problem represented by a matrix and a right hand side vector."
   ]
  },
  {
   "cell_type": "code",
   "execution_count": 22,
   "metadata": {},
   "outputs": [
    {
     "data": {
      "text/plain": [
       "([5.7289883855e-314, 5.376498709e-314, 5.376498709e-314, 4.0e-323, 4.243991582e-314, 9.54898106e-314, 7.4e-323, 2.1219958226e-314, 0.0, 8.4879831955e-314  …  5.3765235783e-314, 2.121995795e-314, 2.121995791e-314, 5.729202794e-314, 0.0, NaN, 5.7290710723e-314, 0.0, 0.0, 0.0], sparse([1, 22, 74, 289, 337, 338, 339, 340, 341, 1872  …  6303, 335, 465, 467, 468, 1806, 6201, 6224, 6232, 6304], [1, 1, 1, 1, 1, 1, 1, 1, 1, 1  …  6303, 6304, 6304, 6304, 6304, 6304, 6304, 6304, 6304, 6304], [0.06443080405538211, -0.0011816946972152084, -0.0019141180663583925, -0.03255921926190384, -0.013954244941888471, -0.009620087896820673, -0.0021278804315064915, -0.004654033162377993, -0.005173786773138719, 0.003329780400807812  …  0.21999530084991323, -0.015615599976174236, 0.003972555304119093, -0.009088995023018824, -0.00030902681072076353, -0.013784861561036393, -0.014076977113079436, -0.024457375688586837, -0.013734513123868308, 0.17287503833373258], 6304, 6304), [0.001567735161920194, 0.0015207565876126676, 0.0015232957017090138, 0.0016182302571138272, 0.0013414312146763385, 0.0014776038723584638, 0.001306589310230424, 0.0014160610368619702, 0.0014136920830547547, 0.001413925912088446  …  0.09466909943634595, 3.837716427462897e-5, 4.067983156302628e-5, 3.407470822273103e-5, 3.41027317460599e-5, 0.08456444214161216, 0.07001671663821094, 3.708312001443067e-5, 3.516169468651288e-5, 0.17159606501883534])"
      ]
     },
     "metadata": {},
     "output_type": "display_data"
    }
   ],
   "source": [
    "x,A,b = GT.linear_problem(uhd,a,l)"
   ]
  },
  {
   "cell_type": "markdown",
   "metadata": {},
   "source": [
    "Note that the `AffineFEOperator` object representing our FE problem is built from the function `a` and `b` representing the weak form and test and trial FE spaces `V0` and `Ug`.\n",
    "\n",
    " ## Solver phase\n",
    "\n",
    " We have constructed a FE problem, the last step is to solve it. In Gridap, FE problems are solved with types inheriting from the abstract type `FESolver`. Since this is a linear problem, we use a `LinearFESolver`:"
   ]
  },
  {
   "cell_type": "code",
   "execution_count": 23,
   "metadata": {},
   "outputs": [
    {
     "data": {
      "text/plain": [
       "6304-element Vector{Float64}:\n",
       " 2.288817650800605\n",
       " 3.191214461559075\n",
       " 3.243769827996373\n",
       " 4.513021960049178\n",
       " 4.137978510723658\n",
       " 2.6511832145611978\n",
       " 3.9985286410715637\n",
       " 2.3676403246611577\n",
       " 2.6253865316943625\n",
       " 3.1924629585377917\n",
       " ⋮\n",
       " 2.3980575528123094\n",
       " 3.9912082231886825\n",
       " 3.6282800936694914\n",
       " 3.817091127051113\n",
       " 2.0771951682489314\n",
       " 2.0995109886643184\n",
       " 2.4363879401098405\n",
       " 4.398698443572705\n",
       " 2.0089547066118425"
      ]
     },
     "metadata": {},
     "output_type": "display_data"
    }
   ],
   "source": [
    "x .= A\\b"
   ]
  },
  {
   "cell_type": "markdown",
   "metadata": {},
   "source": [
    " `LinearFESolver` objects are built from a given algebraic linear solver. In this case, we use a LU factorization. Now we are ready to solve the FE problem with the FE solver as follows:"
   ]
  },
  {
   "cell_type": "code",
   "execution_count": 24,
   "metadata": {},
   "outputs": [
    {
     "data": {
      "text/plain": [
       "GalerkinToolkit.DiscreteField(…)"
      ]
     },
     "metadata": {},
     "output_type": "display_data"
    }
   ],
   "source": [
    "uh = GT.solution_field(uhd,x)"
   ]
  },
  {
   "cell_type": "markdown",
   "metadata": {},
   "source": [
    "The `solve` function returns the computed numerical solution `uh`. This object is an instance of `FEFunction`, the type used to represent a function in a FE space. We can inspect the result by writing it into a `vtk` file:"
   ]
  },
  {
   "cell_type": "code",
   "execution_count": 25,
   "metadata": {},
   "outputs": [
    {
     "data": {
      "text/plain": [
       "1-element Vector{String}:\n",
       " \"Ω.vtu\""
      ]
     },
     "metadata": {},
     "output_type": "display_data"
    }
   ],
   "source": [
    "GT.vtk_plot(\"Ω\",Ω) do plt\n",
    "    GT.plot!(plt,uhd;label=\"uhd\")\n",
    "    GT.plot!(plt,uh;label=\"uh\")\n",
    "end"
   ]
  },
  {
   "cell_type": "markdown",
   "metadata": {},
   "source": [
    " which will generate a file named `results.vtu` having a nodal field named `\"uh\"` containing the solution of our problem (see next figure).\n",
    "\n",
    "![](../assets/poisson/fig_uh.png)\n",
    "\n",
    "## References\n",
    "\n",
    "[1] C. Johnson. *Numerical Solution of Partial Differential Equations by the Finite Element Method*. Dover Publications, 2009."
   ]
  },
  {
   "cell_type": "markdown",
   "metadata": {},
   "source": [
    "---\n",
    "\n",
    "*This notebook was generated using [Literate.jl](https://github.com/fredrikekre/Literate.jl).*"
   ]
  }
 ],
 "metadata": {
  "kernelspec": {
   "display_name": "Julia 1.10.5",
   "language": "julia",
   "name": "julia-1.10"
  },
  "language_info": {
   "file_extension": ".jl",
   "mimetype": "application/julia",
   "name": "julia",
   "version": "1.10.5"
  }
 },
 "nbformat": 4,
 "nbformat_minor": 4
}
